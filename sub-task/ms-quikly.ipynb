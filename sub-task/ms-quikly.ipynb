{
 "cells": [
  {
   "cell_type": "code",
   "execution_count": 68,
   "metadata": {},
   "outputs": [],
   "source": [
    "import cv2\n",
    "import numpy as np\n",
    "import os\n",
    "import math\n",
    "from PIL import Image\n",
    "import matplotlib.pyplot as plt\n",
    "%matplotlib inline"
   ]
  },
  {
   "cell_type": "code",
   "execution_count": 7,
   "metadata": {},
   "outputs": [],
   "source": [
    "mask_path = 'C:/Users/Thep Ho/Desktop/Thesis/sub-task/save-all/masks'"
   ]
  },
  {
   "cell_type": "code",
   "execution_count": 8,
   "metadata": {},
   "outputs": [
    {
     "name": "stdout",
     "output_type": "stream",
     "text": [
      "167\n"
     ]
    }
   ],
   "source": [
    "print(len(os.listdir(mask_path)))"
   ]
  },
  {
   "cell_type": "code",
   "execution_count": 182,
   "metadata": {},
   "outputs": [],
   "source": [
    "# config path\n",
    "# draw a line from vector and point\n",
    "def drawLine(img, Vx, Vy, Px, Py):\n",
    "    _, cols = img.shape[:2]\n",
    "    lefty = int((-Px*Vy/Vx) + Py)\n",
    "    righty = int(((cols-Px)*Vy/Vx)+Py)\n",
    "    cv2.line(img, (cols-1, righty), (0, lefty), (0, 255, 0), 1)\n",
    "\n",
    "# standard\n",
    "def mDistance(x1, y1, x2, y2):\n",
    "    return ((((x1 - x2)/DPI[0])**2 + ((y1 - y2)/DPI[0])**2)**0.5)*inch_to_mm\n",
    "\n",
    "thresh = 100\n",
    "DPI = [400]\n",
    "inch_to_mm = 25.4\n",
    "def ms_nt(name_image):\n",
    "    img = Image.open(name_image).convert('RGB')\n",
    "    img = np.reshape(img, (256, 256, 3))\n",
    "    #convert img to grey\n",
    "    img_grey = cv2.cvtColor(img, cv2.COLOR_BGR2GRAY)\n",
    "    # set a thresh\n",
    "    ret, thresh_img = cv2.threshold(img_grey, thresh, 255, cv2.THRESH_BINARY)\n",
    "\n",
    "    root_height, root_weight = img.shape[:2]\n",
    "\n",
    "    #find contours\n",
    "    contours, hierarchy = cv2.findContours(thresh_img, cv2.RETR_TREE, cv2.CHAIN_APPROX_SIMPLE)\n",
    "    # contours\n",
    "    contours = sorted(contours, key=cv2.contourArea, reverse=True)\n",
    "\n",
    "    # tìm vector và điểm của fitline\n",
    "    [fit_line_vx, fit_line_vy, fit_line_x, fit_line_y] = cv2.fitLine(contours[0], cv2.DIST_L2, 0, 0.01, 0.01)\n",
    "\n",
    "    # Kẻ đường vuông góc với fitline\n",
    "    percentage_line_vx, percentage_line_vy = -fit_line_vy, fit_line_vx\n",
    "\n",
    "    # contours mask\n",
    "    img_contours_mask = np.zeros(img.shape, np.uint8)\n",
    "    contour_img = np.zeros(img.shape, np.uint8)\n",
    "\n",
    "    cv2.drawContours(img_contours_mask, contours, -1, (0, 255, 0), 1)\n",
    "    cv2.drawContours(contour_img, contours, -1, (0, 255, 0), 1)\n",
    "\n",
    "    # centroid, area and max width, height\n",
    "    centroid = []\n",
    "    for c in contours:\n",
    "        # find the center of the contour\n",
    "        m = cv2.moments(c)\n",
    "        centroid.append(int(m['m10']/m['m00']))\n",
    "        centroid.append(int(m['m01']/m['m00']))\n",
    "\n",
    "        # extract roi\n",
    "        x, y, w, h = cv2.boundingRect(c)\n",
    "        break\n",
    "\n",
    "    cv2.circle(img_contours_mask, (centroid[0], centroid[1]), 2, (255, 0, 0), -1)\n",
    "\n",
    "    line_mask = np.zeros(img.shape, np.uint8)\n",
    "    drawLine(line_mask, percentage_line_vx, percentage_line_vy, centroid[0], centroid[1])\n",
    "    img_contours_mask = np.array(img_contours_mask)\n",
    "    line_mask = np.array(line_mask)\n",
    "\n",
    "    rows, cols, _ = img.shape\n",
    "    nt_points = []\n",
    "\n",
    "    for i in range(0, rows):\n",
    "        for j in range(0, cols):\n",
    "            if img_contours_mask[i][j][1] == 255 and line_mask[i][j][1] == 255:\n",
    "                nt_points.append([i, j])\n",
    "    \n",
    "    if (len(nt_points) == 1):\n",
    "        nt_points.append([centroid[1], centroid[0]])\n",
    "\n",
    "    (x1, y1, x2, y2) = (nt_points[0][0], nt_points[0][1], nt_points[1][0], nt_points[1][1])\n",
    "\n",
    "    return round(mDistance(x1, y1, x2, y2), 3)"
   ]
  },
  {
   "cell_type": "code",
   "execution_count": 183,
   "metadata": {},
   "outputs": [],
   "source": [
    "import re\n",
    "def sorted_alphanumeric(data):\n",
    "    convert = lambda text: int(text) if text.isdigit() else text.lower()\n",
    "    labdanum_key = lambda key: [ convert(c) for c in re.split('([0-9]+)', key) ] \n",
    "    return sorted(data, key=labdanum_key)"
   ]
  },
  {
   "cell_type": "code",
   "execution_count": null,
   "metadata": {},
   "outputs": [],
   "source": [
    "# ground_truth = [\n",
    "#         98, 95, 230, 160, 150, 150, 120, 120, 160, 70, 133, 110, 130, 110, 130, 180, 120, 310, \n",
    "#         120, 100, 110, 90, 190, 109, 110, 310, 350, 110, 90, 120, 121, 123, 150, 160, 140, 170, \n",
    "#         95, 140, 80, 270, 160, 140, 210, 120, 130, 101, 138, 140, 240, 160, 130, 140, 260, 270, \n",
    "#         140, 80, 243, 130, 160, 90, 107, 104, 197, 130, 130 ,130, 277, 151, 150, 570, 490, 500, \n",
    "#         500, 340, 600, 530, 860, 280, 270, 190, 320, 310, 310, 290, 460, 340, 100, 360, 120, 270, \n",
    "#         165, 86, 162, 179, 233, 136, 209, 502, 554, 587, 160, 160, 208, 139, 170, 140, 124, 451, \n",
    "#         122, 113, 143, 120, 200, 135, 180, 133, 200, 130, 135, 460, 135, 112, 143, 120, 100, 157, \n",
    "#         185, 174, 156, 191, 198, 175, 94, 87, 122, 260, 180, 124, 112, 214, 202, 125, 207, 148, 133, \n",
    "#         155, 94, 119, 130, 152, 147, 126, 391, 141, 117, 157, 155, 104, 225, 155, 110, 107, 134, 158, \n",
    "#         201, 172, 105\n",
    "#     ]"
   ]
  },
  {
   "cell_type": "code",
   "execution_count": 198,
   "metadata": {},
   "outputs": [
    {
     "name": "stdout",
     "output_type": "stream",
     "text": [
      "167\n"
     ]
    }
   ],
   "source": [
    "ground_truth = [\n",
    "        98, 95, 230, 160, 150, 150, 120, 120, 160, 70, 133, 110, 130, 110, 130, 180, 120, 310, \n",
    "        120, 100, 110, 90, 190, 109, 110, 310, 350, 110, 90, 120, 121, 123, 150, 160, 140, 170, \n",
    "        95, 140, 80, 270, 160, 140, 210, 120, 130, 101, 138, 140, 240, 160, 130, 140, 260, 270, \n",
    "        140, 80, 243, 130, 160, 90, 107, 104, 197, 130, 130 ,130, 277, 151, 150, 570, 490, 500, \n",
    "        500, 340, 600, 530, 260, 280, 270, 190, 320, 310, 310, 290, 460, 340, 100, 360, 120, 270, \n",
    "        165, 86, 162, 179, 233, 136, 209, 502, 554, 587, 160, 160, 208, 139, 170, 140, 124, 451, \n",
    "        122, 113, 143, 120, 200, 135, 180, 133, 200, 130, 135, 460, 135, 112, 143, 120, 100, 157, \n",
    "        185, 174, 156, 191, 198, 175, 94, 87, 122, 260, 180, 124, 112, 214, 202, 125, 207, 148, 133, \n",
    "        155, 94, 119, 130, 152, 147, 126, 391, 141, 117, 157, 155, 104, 225, 155, 110, 107, 134, 158, \n",
    "        201, 172, 105\n",
    "    ]\n",
    "print(len(ground_truth))"
   ]
  },
  {
   "cell_type": "code",
   "execution_count": 199,
   "metadata": {},
   "outputs": [],
   "source": [
    "y = [a/100 for a in ground_truth]"
   ]
  },
  {
   "cell_type": "code",
   "execution_count": 204,
   "metadata": {},
   "outputs": [],
   "source": [
    "result = []\n",
    "prd = []\n",
    "dirlist = sorted_alphanumeric(os.listdir(mask_path))\n",
    "for (index, img) in enumerate(dirlist):\n",
    "    nt_pred = ms_nt(mask_path + '/' + img)\n",
    "    prd.append(nt_pred)\n",
    "    result.append(int(abs(ground_truth[index]/100 - nt_pred)))"
   ]
  },
  {
   "cell_type": "code",
   "execution_count": 205,
   "metadata": {},
   "outputs": [
    {
     "name": "stdout",
     "output_type": "stream",
     "text": [
      "[1.087, 1.46, 2.294, 1.846, 1.034, 1.018, 0.785, 1.716, 1.347, 1.145, 1.599, 2.163, 2.041, 1.662, 1.482, 1.651, 1.652, 3.375, 2.032, 1.018, 1.593, 1.403, 2.623, 2.041, 1.145, 4.553, 5.491, 1.589, 1.851, 1.41, 2.036, 1.34, 2.477, 2.226, 2.041, 2.167, 1.529, 2.641, 1.796, 1.599, 1.368, 1.727, 0.898, 1.397, 2.733, 1.973, 1.495, 1.788, 1.276, 3.43, 1.67, 1.593, 0.701, 2.694, 3.059, 1.403, 1.403, 3.059, 1.788, 1.34, 1.433, 1.208, 1.652, 1.973, 1.851, 2.096, 2.245, 2.557, 1.694, 1.398, 2.942, 1.652, 2.404, 1.087, 1.143, 2.653, 2.129, 4.01, 1.536, 1.208, 0.575, 1.272, 2.477, 1.779, 1.589, 3.493, 1.956, 1.024, 1.756, 0.724, 1.906, 1.46, 0.571, 1.333, 1.15, 2.35, 1.725, 2.067, 2.854, 2.865, 2.547, 1.171, 2.311, 2.733, 1.788, 1.206, 0.955, 2.668, 3.003, 2.033, 1.906, 1.15, 0.898, 2.286, 1.536, 1.906, 1.397, 1.593, 1.589, 1.159, 3.938, 1.906, 1.557, 1.335, 1.018, 0.889, 1.662, 2.67, 1.08, 2.795, 1.909, 1.081, 2.174, 1.047, 1.97, 3.371, 1.024, 0.828, 1.371, 2.634, 2.674, 1.284, 0.952, 0.909, 1.545, 1.779, 1.525, 1.272, 1.276, 0.701, 2.541, 0.961, 2.965, 0.891, 2.653, 2.35, 2.104, 1.213, 2.036, 1.276, 0.701, 0.635, 1.016, 1.714, 2.041, 2.641, 0.638]\n"
     ]
    }
   ],
   "source": [
    "print(prd)"
   ]
  },
  {
   "cell_type": "code",
   "execution_count": 206,
   "metadata": {},
   "outputs": [
    {
     "name": "stdout",
     "output_type": "stream",
     "text": [
      "[0.98, 0.95, 2.3, 1.6, 1.5, 1.5, 1.2, 1.2, 1.6, 0.7, 1.33, 1.1, 1.3, 1.1, 1.3, 1.8, 1.2, 3.1, 1.2, 1.0, 1.1, 0.9, 1.9, 1.09, 1.1, 3.1, 3.5, 1.1, 0.9, 1.2, 1.21, 1.23, 1.5, 1.6, 1.4, 1.7, 0.95, 1.4, 0.8, 2.7, 1.6, 1.4, 2.1, 1.2, 1.3, 1.01, 1.38, 1.4, 2.4, 1.6, 1.3, 1.4, 2.6, 2.7, 1.4, 0.8, 2.43, 1.3, 1.6, 0.9, 1.07, 1.04, 1.97, 1.3, 1.3, 1.3, 2.77, 1.51, 1.5, 5.7, 4.9, 5.0, 5.0, 3.4, 6.0, 5.3, 2.6, 2.8, 2.7, 1.9, 3.2, 3.1, 3.1, 2.9, 4.6, 3.4, 1.0, 3.6, 1.2, 2.7, 1.65, 0.86, 1.62, 1.79, 2.33, 1.36, 2.09, 5.02, 5.54, 5.87, 1.6, 1.6, 2.08, 1.39, 1.7, 1.4, 1.24, 4.51, 1.22, 1.13, 1.43, 1.2, 2.0, 1.35, 1.8, 1.33, 2.0, 1.3, 1.35, 4.6, 1.35, 1.12, 1.43, 1.2, 1.0, 1.57, 1.85, 1.74, 1.56, 1.91, 1.98, 1.75, 0.94, 0.87, 1.22, 2.6, 1.8, 1.24, 1.12, 2.14, 2.02, 1.25, 2.07, 1.48, 1.33, 1.55, 0.94, 1.19, 1.3, 1.52, 1.47, 1.26, 3.91, 1.41, 1.17, 1.57, 1.55, 1.04, 2.25, 1.55, 1.1, 1.07, 1.34, 1.58, 2.01, 1.72, 1.05]\n",
      "\n",
      "\n",
      "[1.087, 1.46, 2.294, 1.846, 1.034, 1.018, 0.785, 1.716, 1.347, 1.145, 1.599, 2.163, 2.041, 1.662, 1.482, 1.651, 1.652, 3.375, 2.032, 1.018, 1.593, 1.403, 2.623, 2.041, 1.145, 4.553, 5.491, 1.589, 1.851, 1.41, 2.036, 1.34, 2.477, 2.226, 2.041, 2.167, 1.529, 2.641, 1.796, 1.599, 1.368, 1.727, 0.898, 1.397, 2.733, 1.973, 1.495, 1.788, 1.276, 3.43, 1.67, 1.593, 0.701, 2.694, 3.059, 1.403, 1.403, 3.059, 1.788, 1.34, 1.433, 1.208, 1.652, 1.973, 1.851, 2.096, 2.245, 2.557, 1.694, 1.398, 2.942, 1.652, 2.404, 1.087, 1.143, 2.653, 2.129, 4.01, 1.536, 1.208, 0.575, 1.272, 2.477, 1.779, 1.589, 3.493, 1.956, 1.024, 1.756, 0.724, 1.906, 1.46, 0.571, 1.333, 1.15, 2.35, 1.725, 2.067, 2.854, 2.865, 2.547, 1.171, 2.311, 2.733, 1.788, 1.206, 0.955, 2.668, 3.003, 2.033, 1.906, 1.15, 0.898, 2.286, 1.536, 1.906, 1.397, 1.593, 1.589, 1.159, 3.938, 1.906, 1.557, 1.335, 1.018, 0.889, 1.662, 2.67, 1.08, 2.795, 1.909, 1.081, 2.174, 1.047, 1.97, 3.371, 1.024, 0.828, 1.371, 2.634, 2.674, 1.284, 0.952, 0.909, 1.545, 1.779, 1.525, 1.272, 1.276, 0.701, 2.541, 0.961, 2.965, 0.891, 2.653, 2.35, 2.104, 1.213, 2.036, 1.276, 0.701, 0.635, 1.016, 1.714, 2.041, 2.641, 0.638]\n"
     ]
    }
   ],
   "source": [
    "y_hat = [a for a in prd]\n",
    "print(y)\n",
    "print('\\n')\n",
    "print(y_hat)"
   ]
  },
  {
   "cell_type": "code",
   "execution_count": 207,
   "metadata": {},
   "outputs": [
    {
     "name": "stdout",
     "output_type": "stream",
     "text": [
      "66\n"
     ]
    }
   ],
   "source": [
    "print(sum(result))"
   ]
  },
  {
   "cell_type": "code",
   "execution_count": 208,
   "metadata": {},
   "outputs": [
    {
     "name": "stdout",
     "output_type": "stream",
     "text": [
      "0.98 ---------- 1.087 --------- 0\n",
      "0.95 ---------- 1.46 --------- 0\n",
      "2.3 ---------- 2.294 --------- 0\n",
      "1.6 ---------- 1.846 --------- 0\n",
      "1.5 ---------- 1.034 --------- 0\n",
      "1.5 ---------- 1.018 --------- 0\n",
      "1.2 ---------- 0.785 --------- 0\n",
      "1.2 ---------- 1.716 --------- 0\n",
      "1.6 ---------- 1.347 --------- 0\n",
      "0.7 ---------- 1.145 --------- 0\n",
      "1.33 ---------- 1.599 --------- 0\n",
      "1.1 ---------- 2.163 --------- 1\n",
      "1.3 ---------- 2.041 --------- 0\n",
      "1.1 ---------- 1.662 --------- 0\n",
      "1.3 ---------- 1.482 --------- 0\n",
      "1.8 ---------- 1.651 --------- 0\n",
      "1.2 ---------- 1.652 --------- 0\n",
      "3.1 ---------- 3.375 --------- 0\n",
      "1.2 ---------- 2.032 --------- 0\n",
      "1.0 ---------- 1.018 --------- 0\n",
      "1.1 ---------- 1.593 --------- 0\n",
      "0.9 ---------- 1.403 --------- 0\n",
      "1.9 ---------- 2.623 --------- 0\n",
      "1.09 ---------- 2.041 --------- 0\n",
      "1.1 ---------- 1.145 --------- 0\n",
      "3.1 ---------- 4.553 --------- 1\n",
      "3.5 ---------- 5.491 --------- 1\n",
      "1.1 ---------- 1.589 --------- 0\n",
      "0.9 ---------- 1.851 --------- 0\n",
      "1.2 ---------- 1.41 --------- 0\n",
      "1.21 ---------- 2.036 --------- 0\n",
      "1.23 ---------- 1.34 --------- 0\n",
      "1.5 ---------- 2.477 --------- 0\n",
      "1.6 ---------- 2.226 --------- 0\n",
      "1.4 ---------- 2.041 --------- 0\n",
      "1.7 ---------- 2.167 --------- 0\n",
      "0.95 ---------- 1.529 --------- 0\n",
      "1.4 ---------- 2.641 --------- 1\n",
      "0.8 ---------- 1.796 --------- 0\n",
      "2.7 ---------- 1.599 --------- 1\n",
      "1.6 ---------- 1.368 --------- 0\n",
      "1.4 ---------- 1.727 --------- 0\n",
      "2.1 ---------- 0.898 --------- 1\n",
      "1.2 ---------- 1.397 --------- 0\n",
      "1.3 ---------- 2.733 --------- 1\n",
      "1.01 ---------- 1.973 --------- 0\n",
      "1.38 ---------- 1.495 --------- 0\n",
      "1.4 ---------- 1.788 --------- 0\n",
      "2.4 ---------- 1.276 --------- 1\n",
      "1.6 ---------- 3.43 --------- 1\n",
      "1.3 ---------- 1.67 --------- 0\n",
      "1.4 ---------- 1.593 --------- 0\n",
      "2.6 ---------- 0.701 --------- 1\n",
      "2.7 ---------- 2.694 --------- 0\n",
      "1.4 ---------- 3.059 --------- 1\n",
      "0.8 ---------- 1.403 --------- 0\n",
      "2.43 ---------- 1.403 --------- 1\n",
      "1.3 ---------- 3.059 --------- 1\n",
      "1.6 ---------- 1.788 --------- 0\n",
      "0.9 ---------- 1.34 --------- 0\n",
      "1.07 ---------- 1.433 --------- 0\n",
      "1.04 ---------- 1.208 --------- 0\n",
      "1.97 ---------- 1.652 --------- 0\n",
      "1.3 ---------- 1.973 --------- 0\n",
      "1.3 ---------- 1.851 --------- 0\n",
      "1.3 ---------- 2.096 --------- 0\n",
      "2.77 ---------- 2.245 --------- 0\n",
      "1.51 ---------- 2.557 --------- 1\n",
      "1.5 ---------- 1.694 --------- 0\n",
      "5.7 ---------- 1.398 --------- 4\n",
      "4.9 ---------- 2.942 --------- 1\n",
      "5.0 ---------- 1.652 --------- 3\n",
      "5.0 ---------- 2.404 --------- 2\n",
      "3.4 ---------- 1.087 --------- 2\n",
      "6.0 ---------- 1.143 --------- 4\n",
      "5.3 ---------- 2.653 --------- 2\n",
      "2.6 ---------- 2.129 --------- 0\n",
      "2.8 ---------- 4.01 --------- 1\n",
      "2.7 ---------- 1.536 --------- 1\n",
      "1.9 ---------- 1.208 --------- 0\n",
      "3.2 ---------- 0.575 --------- 2\n",
      "3.1 ---------- 1.272 --------- 1\n",
      "3.1 ---------- 2.477 --------- 0\n",
      "2.9 ---------- 1.779 --------- 1\n",
      "4.6 ---------- 1.589 --------- 3\n",
      "3.4 ---------- 3.493 --------- 0\n",
      "1.0 ---------- 1.956 --------- 0\n",
      "3.6 ---------- 1.024 --------- 2\n",
      "1.2 ---------- 1.756 --------- 0\n",
      "2.7 ---------- 0.724 --------- 1\n",
      "1.65 ---------- 1.906 --------- 0\n",
      "0.86 ---------- 1.46 --------- 0\n",
      "1.62 ---------- 0.571 --------- 1\n",
      "1.79 ---------- 1.333 --------- 0\n",
      "2.33 ---------- 1.15 --------- 1\n",
      "1.36 ---------- 2.35 --------- 0\n",
      "2.09 ---------- 1.725 --------- 0\n",
      "5.02 ---------- 2.067 --------- 2\n",
      "5.54 ---------- 2.854 --------- 2\n",
      "5.87 ---------- 2.865 --------- 3\n",
      "1.6 ---------- 2.547 --------- 0\n",
      "1.6 ---------- 1.171 --------- 0\n",
      "2.08 ---------- 2.311 --------- 0\n",
      "1.39 ---------- 2.733 --------- 1\n",
      "1.7 ---------- 1.788 --------- 0\n",
      "1.4 ---------- 1.206 --------- 0\n",
      "1.24 ---------- 0.955 --------- 0\n",
      "4.51 ---------- 2.668 --------- 1\n",
      "1.22 ---------- 3.003 --------- 1\n",
      "1.13 ---------- 2.033 --------- 0\n",
      "1.43 ---------- 1.906 --------- 0\n",
      "1.2 ---------- 1.15 --------- 0\n",
      "2.0 ---------- 0.898 --------- 1\n",
      "1.35 ---------- 2.286 --------- 0\n",
      "1.8 ---------- 1.536 --------- 0\n",
      "1.33 ---------- 1.906 --------- 0\n",
      "2.0 ---------- 1.397 --------- 0\n",
      "1.3 ---------- 1.593 --------- 0\n",
      "1.35 ---------- 1.589 --------- 0\n",
      "4.6 ---------- 1.159 --------- 3\n",
      "1.35 ---------- 3.938 --------- 2\n",
      "1.12 ---------- 1.906 --------- 0\n",
      "1.43 ---------- 1.557 --------- 0\n",
      "1.2 ---------- 1.335 --------- 0\n",
      "1.0 ---------- 1.018 --------- 0\n",
      "1.57 ---------- 0.889 --------- 0\n",
      "1.85 ---------- 1.662 --------- 0\n",
      "1.74 ---------- 2.67 --------- 0\n",
      "1.56 ---------- 1.08 --------- 0\n",
      "1.91 ---------- 2.795 --------- 0\n",
      "1.98 ---------- 1.909 --------- 0\n",
      "1.75 ---------- 1.081 --------- 0\n",
      "0.94 ---------- 2.174 --------- 1\n",
      "0.87 ---------- 1.047 --------- 0\n",
      "1.22 ---------- 1.97 --------- 0\n",
      "2.6 ---------- 3.371 --------- 0\n",
      "1.8 ---------- 1.024 --------- 0\n",
      "1.24 ---------- 0.828 --------- 0\n",
      "1.12 ---------- 1.371 --------- 0\n",
      "2.14 ---------- 2.634 --------- 0\n",
      "2.02 ---------- 2.674 --------- 0\n",
      "1.25 ---------- 1.284 --------- 0\n",
      "2.07 ---------- 0.952 --------- 1\n",
      "1.48 ---------- 0.909 --------- 0\n",
      "1.33 ---------- 1.545 --------- 0\n",
      "1.55 ---------- 1.779 --------- 0\n",
      "0.94 ---------- 1.525 --------- 0\n",
      "1.19 ---------- 1.272 --------- 0\n",
      "1.3 ---------- 1.276 --------- 0\n",
      "1.52 ---------- 0.701 --------- 0\n",
      "1.47 ---------- 2.541 --------- 1\n",
      "1.26 ---------- 0.961 --------- 0\n",
      "3.91 ---------- 2.965 --------- 0\n",
      "1.41 ---------- 0.891 --------- 0\n",
      "1.17 ---------- 2.653 --------- 1\n",
      "1.57 ---------- 2.35 --------- 0\n",
      "1.55 ---------- 2.104 --------- 0\n",
      "1.04 ---------- 1.213 --------- 0\n",
      "2.25 ---------- 2.036 --------- 0\n",
      "1.55 ---------- 1.276 --------- 0\n",
      "1.1 ---------- 0.701 --------- 0\n",
      "1.07 ---------- 0.635 --------- 0\n",
      "1.34 ---------- 1.016 --------- 0\n",
      "1.58 ---------- 1.714 --------- 0\n",
      "2.01 ---------- 2.041 --------- 0\n",
      "1.72 ---------- 2.641 --------- 0\n",
      "1.05 ---------- 0.638 --------- 0\n"
     ]
    }
   ],
   "source": [
    "for i in range(167):\n",
    "    print(y[i], '----------', y_hat[i], '---------', int(abs(y[i] - y_hat[i])))"
   ]
  },
  {
   "cell_type": "code",
   "execution_count": 165,
   "metadata": {},
   "outputs": [
    {
     "name": "stdout",
     "output_type": "stream",
     "text": [
      "[0, 1, 1, 0, 1, 1, 0, 1, 0, 1, 1, 2, 2, 1, 1, 0, 1, 1, 2, 0, 1, 1, 1, 2, 1, 3, 3, 1, 1, 1, 2, 1, 1, 1, 2, 1, 1, 3, 1, 1, 0, 1, 1, 1, 3, 2, 1, 1, 0, 3, 1, 1, 2, 1, 3, 1, 0, 3, 0, 1, 1, 1, 0, 2, 1, 2, 0, 1, 0, 4, 1, 3, 2, 2, 4, 1, 6, 2, 1, 0, 2, 1, 0, 1, 3, 2, 2, 3, 1, 2, 1, 1, 1, 0, 0, 2, 0, 2, 2, 2, 1, 0, 1, 3, 0, 1, 0, 1, 3, 2, 2, 1, 1, 2, 0, 2, 0, 1, 1, 3, 4, 2, 1, 1, 0, 1, 0, 2, 1, 2, 1, 1, 2, 0, 2, 1, 1, 0, 1, 2, 2, 1, 1, 0, 1, 0, 1, 1, 1, 1, 2, 0, 0, 0, 3, 1, 1, 1, 1, 0, 0, 0, 0, 0, 1, 2, 0]\n"
     ]
    }
   ],
   "source": [
    "# y - y_hat\n",
    "resultt = [abs(y[i] - y_hat[i]) for i in range(167)]\n",
    "print(resultt)"
   ]
  },
  {
   "cell_type": "code",
   "execution_count": null,
   "metadata": {},
   "outputs": [],
   "source": []
  },
  {
   "cell_type": "code",
   "execution_count": 209,
   "metadata": {},
   "outputs": [
    {
     "name": "stdout",
     "output_type": "stream",
     "text": [
      "0.39520958083832336\n"
     ]
    }
   ],
   "source": [
    "print(np.mean(result))"
   ]
  },
  {
   "cell_type": "code",
   "execution_count": 210,
   "metadata": {},
   "outputs": [
    {
     "name": "stdout",
     "output_type": "stream",
     "text": [
      "156\n",
      "11\n",
      "0\n"
     ]
    }
   ],
   "source": [
    "print(len([i for i in prd if i <= 3.0]))\n",
    "print(len([i for i in prd if i > 3.0 and i <= 6.0]))\n",
    "print(len([i for i in prd if i > 6.0]))"
   ]
  },
  {
   "cell_type": "code",
   "execution_count": 211,
   "metadata": {},
   "outputs": [
    {
     "name": "stdout",
     "output_type": "stream",
     "text": [
      "145\n",
      "22\n",
      "0\n"
     ]
    }
   ],
   "source": [
    "print(len([i for i in y if i <= 3.0]))\n",
    "print(len([i for i in y if i > 3.0 and i <= 6.0]))\n",
    "print(len([i for i in y if i > 6.0]))"
   ]
  },
  {
   "cell_type": "code",
   "execution_count": 212,
   "metadata": {},
   "outputs": [
    {
     "name": "stdout",
     "output_type": "stream",
     "text": [
      "eq_min_1mm --- 123 ---- 73.65269461077844\n",
      "eq_min_05mm --- 123 ---- 73.65269461077844\n",
      "eq_max_1mm --- 14 ---- 8.383233532934131\n",
      "eq_max_2mm --- 6 ---- 3.592814371257485\n",
      "eq_max_3mm --- 2 ---- 1.1976047904191618\n",
      "eq_max_4mm --- 0 ---- 0.0\n"
     ]
    }
   ],
   "source": [
    "eq_min_1mm = [i for i in result if i < 1.0]\n",
    "eq_min_05mm = [i for i in result if i < 0.5]\n",
    "eq_max_1mm = [i for i in result if i > 1.0]\n",
    "eq_max_2mm = [i for i in result if i > 2.0]\n",
    "eq_max_3mm = [i for i in result if i > 3.0]\n",
    "eq_max_4mm = [i for i in result if i > 4.0]\n",
    "\n",
    "print('eq_min_1mm', '---', len(eq_min_1mm), '----', (len(eq_min_1mm)/167)*100)\n",
    "print('eq_min_05mm', '---', len(eq_min_05mm), '----', (len(eq_min_05mm)/167)*100)\n",
    "print('eq_max_1mm', '---', len(eq_max_1mm), '----', (len(eq_max_1mm)/167)*100)\n",
    "print('eq_max_2mm', '---', len(eq_max_2mm), '----', (len(eq_max_2mm)/167)*100)\n",
    "print('eq_max_3mm', '---', len(eq_max_3mm), '----', (len(eq_max_3mm)/167)*100)\n",
    "print('eq_max_4mm', '---', len(eq_max_4mm), '----', (len(eq_max_4mm)/167)*100)"
   ]
  },
  {
   "cell_type": "code",
   "execution_count": 213,
   "metadata": {},
   "outputs": [
    {
     "name": "stdout",
     "output_type": "stream",
     "text": [
      "0.39520958083832336\n"
     ]
    }
   ],
   "source": [
    "# MAE\n",
    "MAE = sum(result)/167\n",
    "print(MAE)"
   ]
  },
  {
   "cell_type": "code",
   "execution_count": 214,
   "metadata": {},
   "outputs": [
    {
     "name": "stdout",
     "output_type": "stream",
     "text": [
      "0.7784431137724551\n"
     ]
    }
   ],
   "source": [
    "# MSE\n",
    "MSE = sum([a*a for a in result ])/167\n",
    "print(MSE)"
   ]
  },
  {
   "cell_type": "code",
   "execution_count": 215,
   "metadata": {},
   "outputs": [
    {
     "name": "stdout",
     "output_type": "stream",
     "text": [
      "0.8822942331061986\n"
     ]
    }
   ],
   "source": [
    "# RMSE\n",
    "RMSE = math.sqrt(MSE)\n",
    "print(RMSE)"
   ]
  },
  {
   "cell_type": "code",
   "execution_count": 203,
   "metadata": {},
   "outputs": [
    {
     "name": "stdout",
     "output_type": "stream",
     "text": [
      "[0.98, 0.95, 2.3, 1.6, 1.5, 1.5, 1.2, 1.2, 1.6, 0.7, 1.33, 1.1, 1.3, 1.1, 1.3, 1.8, 1.2, 3.1, 1.2, 1.0, 1.1, 0.9, 1.9, 1.09, 1.1, 3.1, 3.5, 1.1, 0.9, 1.2, 1.21, 1.23, 1.5, 1.6, 1.4, 1.7, 0.95, 1.4, 0.8, 2.7, 1.6, 1.4, 2.1, 1.2, 1.3, 1.01, 1.38, 1.4, 2.4, 1.6, 1.3, 1.4, 2.6, 2.7, 1.4, 0.8, 2.43, 1.3, 1.6, 0.9, 1.07, 1.04, 1.97, 1.3, 1.3, 1.3, 2.77, 1.51, 1.5, 5.7, 4.9, 5.0, 5.0, 3.4, 6.0, 5.3, 2.6, 2.8, 2.7, 1.9, 3.2, 3.1, 3.1, 2.9, 4.6, 3.4, 1.0, 3.6, 1.2, 2.7, 1.65, 0.86, 1.62, 1.79, 2.33, 1.36, 2.09, 5.02, 5.54, 5.87, 1.6, 1.6, 2.08, 1.39, 1.7, 1.4, 1.24, 4.51, 1.22, 1.13, 1.43, 1.2, 2.0, 1.35, 1.8, 1.33, 2.0, 1.3, 1.35, 4.6, 1.35, 1.12, 1.43, 1.2, 1.0, 1.57, 1.85, 1.74, 1.56, 1.91, 1.98, 1.75, 0.94, 0.87, 1.22, 2.6, 1.8, 1.24, 1.12, 2.14, 2.02, 1.25, 2.07, 1.48, 1.33, 1.55, 0.94, 1.19, 1.3, 1.52, 1.47, 1.26, 3.91, 1.41, 1.17, 1.57, 1.55, 1.04, 2.25, 1.55, 1.1, 1.07, 1.34, 1.58, 2.01, 1.72, 1.05]\n"
     ]
    }
   ],
   "source": [
    "print(y)"
   ]
  },
  {
   "cell_type": "code",
   "execution_count": 217,
   "metadata": {},
   "outputs": [
    {
     "name": "stdout",
     "output_type": "stream",
     "text": [
      "0.14826639961085822\n"
     ]
    }
   ],
   "source": [
    "# MAPE\n",
    "mape = []\n",
    "for i in range(167):\n",
    "    mape.append(result[i]/y[i])\n",
    "\n",
    "MAPE = sum(mape)/167\n",
    "print(MAPE)"
   ]
  },
  {
   "cell_type": "code",
   "execution_count": 23,
   "metadata": {},
   "outputs": [
    {
     "name": "stdout",
     "output_type": "stream",
     "text": [
      "4.588\n"
     ]
    }
   ],
   "source": [
    "print(ms_nt(mask_pred + '/' + 'nt-root-49.png'))"
   ]
  },
  {
   "cell_type": "code",
   "execution_count": 4,
   "metadata": {},
   "outputs": [
    {
     "name": "stdout",
     "output_type": "stream",
     "text": [
      "root_height: 256\n",
      "root_weight: 256\n",
      "nt1:  2.82 mm\n"
     ]
    },
    {
     "data": {
      "image/png": "[encoded data removed]",
      "text/plain": [
       "<Figure size 432x288 with 1 Axes>"
      ]
     },
     "metadata": {
      "needs_background": "light"
     },
     "output_type": "display_data"
    }
   ],
   "source": [
    "ms_nt('nt-45.jpg')"
   ]
  },
  {
   "cell_type": "code",
   "execution_count": null,
   "metadata": {},
   "outputs": [],
   "source": []
  }
 ],
 "metadata": {
  "kernelspec": {
   "display_name": "Python 3.7.5 64-bit",
   "language": "python",
   "name": "python3"
  },
  "language_info": {
   "codemirror_mode": {
    "name": "ipython",
    "version": 3
   },
   "file_extension": ".py",
   "mimetype": "text/x-python",
   "name": "python",
   "nbconvert_exporter": "python",
   "pygments_lexer": "ipython3",
   "version": "3.7.5"
  },
  "orig_nbformat": 4,
  "vscode": {
   "interpreter": {
    "hash": "6b7aca1e3c8d231385f7502cfaec24ae6160fb0956040ee6eaa2d22cbfe1fd4e"
   }
  }
 },
 "nbformat": 4,
 "nbformat_minor": 2
}
