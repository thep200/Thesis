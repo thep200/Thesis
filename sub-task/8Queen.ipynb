{
 "cells": [
  {
   "cell_type": "code",
   "execution_count": 23,
   "metadata": {},
   "outputs": [],
   "source": [
    "import numpy as np\n",
    "import sys\n",
    "\n",
    "nQueens = 8\n",
    "STOP_CTR = 28\n",
    "MUTATE = 0.000001\n",
    "MUTATE_FLAG = True\n",
    "MAX_ITER = 100000\n",
    "POPULATION = None"
   ]
  },
  {
   "cell_type": "code",
   "execution_count": 24,
   "metadata": {},
   "outputs": [],
   "source": [
    "\n",
    "class BoardPosition:\n",
    "\tdef __init__(self):\n",
    "\t\tself.sequence = None\n",
    "\t\tself.fitness = None\n",
    "\t\tself.survival = None\n",
    "\tdef setSequence(self, val):\n",
    "\t\tself.sequence = val\n",
    "\tdef setFitness(self, fitness):\n",
    "\t\tself.fitness = fitness\n",
    "\tdef setSurvival(self, val):\n",
    "\t\tself.survival = val\n",
    "\tdef getAttr(self):\n",
    "\t\treturn {'sequence':self.sequence, 'fitness':self.fitness, 'survival':self.survival}"
   ]
  },
  {
   "cell_type": "code",
   "execution_count": 25,
   "metadata": {},
   "outputs": [],
   "source": [
    "def fitness(chromosome = None):\n",
    "\tclashes = 0;\n",
    "\trow_col_clashes = abs(len(chromosome) - len(np.unique(chromosome)))\n",
    "\tclashes += row_col_clashes\n",
    "\n",
    "\t# calculate diagonal clashes\n",
    "\tfor i in range(len(chromosome)):\n",
    "\t\tfor j in range(len(chromosome)):\n",
    "\t\t\tif ( i != j):\n",
    "\t\t\t\tdx = abs(i-j)\n",
    "\t\t\t\tdy = abs(chromosome[i] - chromosome[j])\n",
    "\t\t\t\tif(dx == dy):\n",
    "\t\t\t\t\tclashes += 1\n",
    "\treturn 28 - clashes\t"
   ]
  },
  {
   "cell_type": "code",
   "execution_count": 26,
   "metadata": {},
   "outputs": [],
   "source": [
    "\n",
    "def generateChromosome():\n",
    "\t# randomly generates a sequence of board states.\n",
    "\tglobal nQueens\n",
    "\tinit_distribution = np.arange(nQueens)\n",
    "\tnp.random.shuffle(init_distribution)\n",
    "\treturn init_distribution"
   ]
  },
  {
   "cell_type": "code",
   "execution_count": 27,
   "metadata": {},
   "outputs": [],
   "source": [
    "def generatePopulation(population_size = 100):\n",
    "\tglobal POPULATION\n",
    "\n",
    "\tPOPULATION = population_size\n",
    "\n",
    "\tpopulation = [BoardPosition() for i in range(population_size)]\n",
    "\tfor i in range(population_size):\n",
    "\t\tpopulation[i].setSequence(generateChromosome())\n",
    "\t\tpopulation[i].setFitness(fitness(population[i].sequence))\n",
    "\n",
    "\treturn population\n",
    "\n"
   ]
  },
  {
   "cell_type": "code",
   "execution_count": 28,
   "metadata": {},
   "outputs": [],
   "source": [
    "def getParent():\n",
    "\tglobals()\t\n",
    "\tparent1, parent2 = None, None\n",
    "\t# parent is decided by random probability of survival.\n",
    "\t# since the fitness of each board position is an integer >0, \n",
    "\t# we need to normaliza the fitness in order to find the solution\n",
    "\t\n",
    "\tsummation_fitness = np.sum([x.fitness for x in population])\n",
    "\tfor each in population:\n",
    "\t\teach.survival = each.fitness/(summation_fitness*1.0)\n",
    "\n",
    "\twhile True:\n",
    "\t\tparent1_random = np.random.rand()\n",
    "\t\tparent1_rn = [x for x in population if x.survival <= parent1_random]\n",
    "\t\ttry:\n",
    "\t\t\tparent1 = parent1_rn[0]\n",
    "\t\t\tbreak\n",
    "\t\texcept:\n",
    "\t\t\tpass\n",
    "\n",
    "\twhile True:\n",
    "\t\tparent2_random = np.random.rand()\n",
    "\t\tparent2_rn = [x for x in population if x.survival <= parent2_random]\n",
    "\t\ttry:\n",
    "\t\t\tt = np.random.randint(len(parent2_rn))\n",
    "\t\t\tparent2 = parent2_rn[t]\n",
    "\t\t\tif parent2 != parent1:\n",
    "\t\t\t\tbreak\n",
    "\t\t\telse:\n",
    "\t\t\t\tprint(\"equal parents\")\n",
    "\t\t\t\tcontinue\n",
    "\t\texcept:\n",
    "\t\t\tprint(\"exception\")\n",
    "\t\t\tcontinue\n",
    "\n",
    "\tif parent1 is not None and parent2 is not None:\n",
    "\t\treturn parent1, parent2\n",
    "\telse:\n",
    "\t\tsys.exit(-1)\n",
    "\n"
   ]
  },
  {
   "cell_type": "code",
   "execution_count": 29,
   "metadata": {},
   "outputs": [],
   "source": [
    "def reproduce_crossover(parent1, parent2):\n",
    "\tglobals()\n",
    "\tn = len(parent1.sequence)\n",
    "\tc = np.random.randint(n, size=1)\n",
    "\tchild = BoardPosition()\n",
    "\tchild.sequence = []\n",
    "\tchild.sequence.extend(parent1.sequence[0:c])\n",
    "\tchild.sequence.extend(parent2.sequence[c:])\n",
    "\tchild.setFitness(fitness(child.sequence))\n",
    "\treturn child"
   ]
  },
  {
   "cell_type": "code",
   "execution_count": 30,
   "metadata": {},
   "outputs": [],
   "source": [
    "\n",
    "def mutate(child):\n",
    "\t\"\"\"\t\n",
    "\t- according to genetic theory, a mutation will take place\n",
    "\twhen there is an anomaly during cross over state\n",
    "\t- since a computer cannot determine such anomaly, we can define \n",
    "\tthe probability of developing such a mutation \n",
    "\t\"\"\"\n",
    "\tif child.survival < MUTATE:\n",
    "\t\tc = np.random.randint(8)\n",
    "\t\tchild.sequence[c] = np.random.randint(8)\n",
    "\treturn child"
   ]
  },
  {
   "cell_type": "code",
   "execution_count": 31,
   "metadata": {},
   "outputs": [],
   "source": [
    "def GA(iteration):\n",
    "\tprint(\" #\"*10 ,\"Executing Genetic  generation : \", iteration , \" #\"*10)\n",
    "\tglobals()\n",
    "\tnewpopulation = []\n",
    "\tfor i in range(len(population)):\n",
    "\t\tparent1, parent2 = getParent()\n",
    "\t\t# print \"Parents generated : \", parent1, parent2\n",
    "\n",
    "\t\tchild = reproduce_crossover(parent1, parent2)\n",
    "\n",
    "\t\tif(MUTATE_FLAG):\n",
    "\t\t\tchild = mutate(child)\n",
    "\n",
    "\t\tnewpopulation.append(child)\n",
    "\treturn newpopulation"
   ]
  },
  {
   "cell_type": "code",
   "execution_count": 32,
   "metadata": {},
   "outputs": [],
   "source": [
    "def stop():\n",
    "\tglobals()\n",
    "\tfitnessvals = [pos.fitness for pos in population]\n",
    "\tif STOP_CTR in fitnessvals:\n",
    "\t\treturn True\n",
    "\tif MAX_ITER == iteration:\n",
    "\t\treturn True\n",
    "\treturn False"
   ]
  },
  {
   "cell_type": "code",
   "execution_count": 33,
   "metadata": {},
   "outputs": [],
   "source": [
    "column = [0, 1, 2, 3, 4, 5, 6, 7]\n",
    "chess = [[\"*\", \"*\", \"*\", \"*\", \"*\", \"*\", \"*\", \"*\"], \n",
    "         [\"*\", \"*\", \"*\", \"*\", \"*\", \"*\", \"*\", \"*\"],\n",
    "         [\"*\", \"*\", \"*\", \"*\", \"*\", \"*\", \"*\", \"*\"],\n",
    "         [\"*\", \"*\", \"*\", \"*\", \"*\", \"*\", \"*\", \"*\"],\n",
    "         [\"*\", \"*\", \"*\", \"*\", \"*\", \"*\", \"*\", \"*\"],\n",
    "         [\"*\", \"*\", \"*\", \"*\", \"*\", \"*\", \"*\", \"*\"],\n",
    "         [\"*\", \"*\", \"*\", \"*\", \"*\", \"*\", \"*\", \"*\"],\n",
    "         [\"*\", \"*\", \"*\", \"*\", \"*\", \"*\", \"*\", \"*\"],]"
   ]
  },
  {
   "cell_type": "code",
   "execution_count": 34,
   "metadata": {},
   "outputs": [],
   "source": [
    "def printResult(sequence, chess=chess):\n",
    "    for i in range(0, 8, 1):\n",
    "        chess[sequence[i]][column[i]] = \"Q\"\n",
    "    for c in chess:\n",
    "        print(c, end=\"\\n\")"
   ]
  },
  {
   "cell_type": "code",
   "execution_count": 35,
   "metadata": {},
   "outputs": [
    {
     "name": "stdout",
     "output_type": "stream",
     "text": [
      "[1, 5, 7, 2, 0, 3, 6, 4]\n",
      "['*', '*', '*', '*', 'Q', '*', '*', '*']\n",
      "['Q', '*', '*', '*', '*', '*', '*', '*']\n",
      "['*', '*', '*', 'Q', '*', '*', '*', '*']\n",
      "['*', '*', '*', '*', '*', 'Q', '*', '*']\n",
      "['*', '*', '*', '*', '*', '*', '*', 'Q']\n",
      "['*', 'Q', '*', '*', '*', '*', '*', '*']\n",
      "['*', '*', '*', '*', '*', '*', 'Q', '*']\n",
      "['*', '*', 'Q', '*', '*', '*', '*', '*']\n",
      "\n",
      "\n"
     ]
    }
   ],
   "source": [
    "population = generatePopulation(10000)\n",
    "iteration = 0;\n",
    "while not stop():\n",
    "\tpopulation = GA(iteration)\n",
    "\titeration +=1 \n",
    "\n",
    "for each in population:\n",
    "\tif each.fitness == 28:\n",
    "\t\tprint(each.sequence.tolist())\n",
    "\t\tprintResult(each.sequence.tolist())\n",
    "\t\tprint(\"\\n\")\n",
    "\t\tbreak;"
   ]
  },
  {
   "cell_type": "code",
   "execution_count": null,
   "metadata": {},
   "outputs": [],
   "source": []
  },
  {
   "cell_type": "code",
   "execution_count": null,
   "metadata": {},
   "outputs": [],
   "source": []
  }
 ],
 "metadata": {
  "kernelspec": {
   "display_name": "Python 3.7.5 64-bit",
   "language": "python",
   "name": "python3"
  },
  "language_info": {
   "codemirror_mode": {
    "name": "ipython",
    "version": 3
   },
   "file_extension": ".py",
   "mimetype": "text/x-python",
   "name": "python",
   "nbconvert_exporter": "python",
   "pygments_lexer": "ipython3",
   "version": "3.7.5"
  },
  "orig_nbformat": 4,
  "vscode": {
   "interpreter": {
    "hash": "6b7aca1e3c8d231385f7502cfaec24ae6160fb0956040ee6eaa2d22cbfe1fd4e"
   }
  }
 },
 "nbformat": 4,
 "nbformat_minor": 2
}
