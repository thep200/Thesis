{
 "cells": [
  {
   "cell_type": "code",
   "execution_count": 13,
   "metadata": {},
   "outputs": [],
   "source": [
    "import os\n",
    "import cv2\n",
    "import json\n",
    "import numpy as np\n",
    "import matplotlib.pyplot as plt\n",
    "from pycocotools.coco import COCO\n",
    "\n",
    "%matplotlib inline"
   ]
  },
  {
   "cell_type": "code",
   "execution_count": 14,
   "metadata": {},
   "outputs": [],
   "source": [
    "# variables\n",
    "data_root_dir = 'C:/Users/Thep Ho/Desktop/Thesis/data/'\n",
    "files_extension = '.png'"
   ]
  },
  {
   "cell_type": "code",
   "execution_count": 15,
   "metadata": {},
   "outputs": [],
   "source": [
    "# make mask from imgs\n",
    "def make_masks(annotation_file, masks_dir):\n",
    "\t# read annotation file\n",
    "\tcoco_label = json.load(open(annotation_file))\n",
    "\t# create coco object\n",
    "\tcoco = COCO(annotation_file)\n",
    "\tfor i in range(0, len(coco_label['images'])):\n",
    "\t\t\n",
    "\t\t# set file name for mask\n",
    "\t\timg_infor = coco.imgs[i]\n",
    "\n",
    "\t\t# 18 is the number of noise characters in the file nam in annotation file\n",
    "\t\timg_file_name = img_infor['file_name'][18:]\n",
    "\n",
    "\t\timg_ids = coco.getCatIds()\n",
    "\t\tanns_ids = coco.getAnnIds(imgIds=i, catIds=img_ids, iscrowd=None)\n",
    "\n",
    "\t\tanns = coco.loadAnns(anns_ids)\n",
    "\t\tmask = coco.annToMask(anns[0])\n",
    "\n",
    "\n",
    "\t\tif (len(anns) == 1):\t\n",
    "\t\t\tmask = coco.annToMask(anns[0])\n",
    "\t\t\tplt.imsave(masks_dir + img_file_name, mask)\n",
    "\n",
    "\t\t\n",
    "\t\tif (len(anns) == 2):\t\n",
    "\t\t\tmask = coco.annToMask(anns[1])\n",
    "\t\t\tplt.imsave(masks_dir + img_file_name, mask)"
   ]
  },
  {
   "cell_type": "code",
   "execution_count": 16,
   "metadata": {},
   "outputs": [],
   "source": [
    "# rename imgs\n",
    "def rename_imgs(new_name, path_obj_needs_to_be_renamed):\n",
    "\tfiles = os.listdir(path_obj_needs_to_be_renamed)\n",
    "\tfor i in range(0, len(files)):\n",
    "\t\tos.rename(path_obj_needs_to_be_renamed + '/' + files[i], path_obj_needs_to_be_renamed + '/' + new_name + str(i + 1) + files_extension)"
   ]
  },
  {
   "cell_type": "code",
   "execution_count": 19,
   "metadata": {},
   "outputs": [],
   "source": [
    "# check if imgs folder and masks folder has a not same name\n",
    "def check_all_to_same_name(imgs_file_path, masks_file_path):\n",
    "\timgs_files = os.listdir(imgs_file_path)\n",
    "\tmasks_files = os.listdir(masks_file_path)\n",
    "\tfor i in range(0, len(imgs_files)):\n",
    "\t\tif (imgs_files[i] != masks_files[i]):\n",
    "\t\t\tprint(imgs_files[i], '!=', masks_files[i], end='\\n')\n",
    "\t\t\tprint('Error: imgs and masks are not the same name')\n",
    "\t\t\tbreak;\n",
    "\treturn 'True'"
   ]
  },
  {
   "cell_type": "code",
   "execution_count": 20,
   "metadata": {},
   "outputs": [
    {
     "data": {
      "text/plain": [
       "'True'"
      ]
     },
     "execution_count": 20,
     "metadata": {},
     "output_type": "execute_result"
    }
   ],
   "source": [
    "imgs_file_path = data_root_dir + 'own-custom-data/imgs'\n",
    "masks_file_path = data_root_dir + 'own-custom-data/masks'\n",
    "check_all_to_same_name(imgs_file_path, masks_file_path)"
   ]
  },
  {
   "cell_type": "code",
   "execution_count": null,
   "metadata": {},
   "outputs": [],
   "source": []
  }
 ],
 "metadata": {
  "interpreter": {
   "hash": "6b7aca1e3c8d231385f7502cfaec24ae6160fb0956040ee6eaa2d22cbfe1fd4e"
  },
  "kernelspec": {
   "display_name": "Python 3.7.5 64-bit",
   "language": "python",
   "name": "python3"
  },
  "language_info": {
   "codemirror_mode": {
    "name": "ipython",
    "version": 3
   },
   "file_extension": ".py",
   "mimetype": "text/x-python",
   "name": "python",
   "nbconvert_exporter": "python",
   "pygments_lexer": "ipython3",
   "version": "3.7.5"
  },
  "orig_nbformat": 4
 },
 "nbformat": 4,
 "nbformat_minor": 2
}
