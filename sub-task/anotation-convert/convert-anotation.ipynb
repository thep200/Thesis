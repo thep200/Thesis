{
 "cells": [
  {
   "cell_type": "code",
   "execution_count": null,
   "metadata": {},
   "outputs": [],
   "source": [
    "import json\n",
    "import os"
   ]
  },
  {
   "cell_type": "code",
   "execution_count": null,
   "metadata": {},
   "outputs": [],
   "source": [
    "# list original file anotation\n",
    "original_file_anotation = ['test-anotation.json', 'train-anotation.json', 'val-anotation.json']"
   ]
  },
  {
   "cell_type": "code",
   "execution_count": null,
   "metadata": {},
   "outputs": [],
   "source": [
    "\n",
    "# custom file anotation\n",
    "for path in original_file_anotation:\n",
    "\t# new anotation \n",
    "\tnew_anotation = [] \n",
    "\n",
    "\t# open file json\n",
    "\toriginal_file_anotation = open('Data/Original Anotation/' + path, 'r')\n",
    "\n",
    "\t# get data from file json\n",
    "\tdt_root = json.load(original_file_anotation)\n",
    "\n",
    "\tfor item in dt_root:\n",
    "\n",
    "\t\t# print(\"error on: \", dt_root.index(item))\n",
    "\n",
    "\t\t# template dict item\n",
    "\t\ttemplate_dict_item = {\"image_file\" : \"\", \"image_size\": [], \"bbox\": [], 'keypoints': []}\n",
    "\n",
    "\t\t# images file\n",
    "\t\t# if item[\"image\"][24:]:\n",
    "\t\ttemplate_dict_item['image_file'] = item[\"image\"][24:]\n",
    "\n",
    "\t\t# image size\n",
    "\t\t# if item['kp-1'][0]['original_width'] and item['kp-1'][0]['original_height']: \n",
    "\t\ttemplate_dict_item['image_size'].append(item['kp-1'][0]['original_width'])\n",
    "\t\ttemplate_dict_item['image_size'].append(item['kp-1'][0]['original_height'])\n",
    "\n",
    "\t\t# bbox\n",
    "\t\t# if item['label'][0]['x'] and item['label'][0]['y'] and item['label'][0]['width'] and item['label'][0]['height']:\n",
    "\t\ttemplate_dict_item['bbox'].append(item['label'][0]['x'])\n",
    "\t\ttemplate_dict_item['bbox'].append(item['label'][0]['y'])\n",
    "\t\ttemplate_dict_item['bbox'].append(item['label'][0]['width'])\n",
    "\t\ttemplate_dict_item['bbox'].append(item['label'][0]['height'])\n",
    "\n",
    "\t\t# keypoints\n",
    "\t\t# have total 51 values as 17 keypoints so we need to add 45 values as 0 to fix the total\n",
    "\t\t# if item['kp-1'][0]['x'] and item['kp-1'][0]['y'] and item['kp-1'][1]['x'] and item['kp-1'][1]['y']:\n",
    "\t\ttemplate_dict_item['keypoints'].append(item['kp-1'][0]['x'])\n",
    "\t\ttemplate_dict_item['keypoints'].append(item['kp-1'][0]['y'])\n",
    "\t\ttemplate_dict_item['keypoints'].append(2)\n",
    "\n",
    "\t\ttemplate_dict_item['keypoints'].append(item['kp-1'][1]['x'])\n",
    "\t\ttemplate_dict_item['keypoints'].append(item['kp-1'][1]['y'])\n",
    "\t\ttemplate_dict_item['keypoints'].append(2)\n",
    "\n",
    "\t\ttemplate_dict_item['keypoints'] = template_dict_item['keypoints'] + [0]*45\n",
    "\n",
    "\t\t# add new item to new anotation\n",
    "\t\tnew_anotation.append(template_dict_item)"
   ]
  },
  {
   "cell_type": "code",
   "execution_count": null,
   "metadata": {},
   "outputs": [],
   "source": [
    "# print(new_anotation)\n",
    "# print(len(dt_root))\n",
    "\n",
    "\n",
    "# save new anotation\n",
    "result_file = open('Data/' + path, 'w')\n",
    "json.dump(new_anotation, result_file)\n",
    "result_file.close()\n",
    "\n"
   ]
  }
 ],
 "metadata": {
  "language_info": {
   "name": "python"
  },
  "orig_nbformat": 4
 },
 "nbformat": 4,
 "nbformat_minor": 2
}
