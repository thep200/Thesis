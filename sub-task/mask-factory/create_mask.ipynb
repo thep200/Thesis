{
 "cells": [
  {
   "cell_type": "code",
   "execution_count": 1,
   "metadata": {},
   "outputs": [],
   "source": [
    "import cv2\n",
    "import numpy as np\n",
    "import matplotlib.pyplot as plt\n",
    "import os\n",
    "import sys\n",
    "import json\n",
    "from pycocotools.coco import COCO\n",
    "from PIL import Image\n",
    "%matplotlib inline"
   ]
  },
  {
   "cell_type": "code",
   "execution_count": 2,
   "metadata": {},
   "outputs": [],
   "source": [
    "# prepare path for next section\n",
    "root_path = 'C:/Users/Thep Ho/Desktop/Thesis/resources/data/coco'\n",
    "\n",
    "# test\n",
    "test_path = root_path + '/test/result.json'\n",
    "img_test_dir = root_path + '/test/images/'\n",
    "mask_test_save = root_path + '/test/masks/'\n",
    "test_label_arr = [test_path, img_test_dir, mask_test_save]\n",
    "\n",
    "# train\n",
    "train_path = root_path + '/train/result.json'\n",
    "img_train_dir = root_path + '/train/images/'\n",
    "mask_train_save = root_path + '/train/masks/'\n",
    "train_label_arr = [train_path, img_train_dir, mask_train_save]\n",
    "\n",
    "# val\n",
    "val_path = root_path + '/val/result.json'\n",
    "img_val_dir = root_path + '/val/images/'\n",
    "mask_val_save = root_path + '/val/masks/'\n",
    "val_label_arr = [val_path, img_val_dir, mask_val_save]"
   ]
  },
  {
   "cell_type": "code",
   "execution_count": 3,
   "metadata": {},
   "outputs": [],
   "source": [
    "def create_mask(label_path):\n",
    "\t# load json file\n",
    "\tcoco_label = json.load(open(label_path[0]))\n",
    "\n",
    "\t# create mask\n",
    "\tfor i in range(len(coco_label['images'])):\n",
    "\n",
    "\t\tcoco = COCO(label_path[0])\n",
    "\n",
    "\t\timg_infor = coco.imgs[i]\n",
    "\t\timg_file_name = img_infor['file_name'][9:]\n",
    "\n",
    "\t\timg_ids = coco.getCatIds()\n",
    "\t\tanns_ids = coco.getAnnIds(imgIds=i, catIds=img_ids, iscrowd=None)\n",
    "\t\tanns = coco.loadAnns(anns_ids)\n",
    "\n",
    "\t\t\n",
    "\t\tif (len(anns) == 1):\t\n",
    "\t\t\tmask = coco.annToMask(anns[0])\n",
    "\t\t\tplt.imsave(label_path[2] + img_file_name[9:], mask)\n",
    "\n",
    "\t\t\n",
    "\t\tif (len(anns) == 2):\t\n",
    "\t\t\tmask = coco.annToMask(anns[1])\n",
    "\t\t\tplt.imsave(label_path[2] + img_file_name[9:], mask)"
   ]
  },
  {
   "cell_type": "code",
   "execution_count": null,
   "metadata": {},
   "outputs": [],
   "source": [
    "create_mask(test_label_arr)"
   ]
  },
  {
   "cell_type": "code",
   "execution_count": null,
   "metadata": {},
   "outputs": [],
   "source": [
    "create_mask(val_label_arr)"
   ]
  },
  {
   "cell_type": "code",
   "execution_count": null,
   "metadata": {},
   "outputs": [],
   "source": [
    "create_mask(train_label_arr)"
   ]
  }
 ],
 "metadata": {
  "interpreter": {
   "hash": "6b7aca1e3c8d231385f7502cfaec24ae6160fb0956040ee6eaa2d22cbfe1fd4e"
  },
  "kernelspec": {
   "display_name": "Python 3.7.5 64-bit",
   "language": "python",
   "name": "python3"
  },
  "language_info": {
   "codemirror_mode": {
    "name": "ipython",
    "version": 3
   },
   "file_extension": ".py",
   "mimetype": "text/x-python",
   "name": "python",
   "nbconvert_exporter": "python",
   "pygments_lexer": "ipython3",
   "version": "3.7.5"
  },
  "orig_nbformat": 4
 },
 "nbformat": 4,
 "nbformat_minor": 2
}
